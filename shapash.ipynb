{
 "cells": [
  {
   "cell_type": "markdown",
   "metadata": {},
   "source": [
    "# SHAPASH"
   ]
  },
  {
   "cell_type": "code",
   "execution_count": 4,
   "metadata": {},
   "outputs": [
    {
     "name": "stdout",
     "output_type": "stream",
     "text": [
      "Requirement already satisfied: pip in c:\\users\\manal\\appdata\\local\\programs\\python\\python39\\lib\\site-packages (21.1.1)\n",
      "Collecting pip\n",
      "  Downloading pip-23.1.2-py3-none-any.whl (2.1 MB)\n",
      "Installing collected packages: pip\n",
      "  Attempting uninstall: pip\n",
      "    Found existing installation: pip 21.1.1\n",
      "    Uninstalling pip-21.1.1:\n",
      "      Successfully uninstalled pip-21.1.1\n",
      "Successfully installed pip-23.1.2\n",
      "Note: you may need to restart the kernel to use updated packages.\n"
     ]
    },
    {
     "name": "stderr",
     "output_type": "stream",
     "text": [
      "  WARNING: The scripts pip.exe, pip3.10.exe, pip3.9.exe and pip3.exe are installed in 'c:\\users\\manal\\appdata\\local\\programs\\python\\python39\\Scripts' which is not on PATH.\n",
      "  Consider adding this directory to PATH or, if you prefer to suppress this warning, use --no-warn-script-location.\n"
     ]
    }
   ],
   "source": [
    "pip install --upgrade pip"
   ]
  },
  {
   "cell_type": "code",

   "execution_count": 2,
   "metadata": {},
   "outputs": [
    {
     "name": "stdout",
     "output_type": "stream",
     "text": [
      "Requirement already satisfied: lightgbm in c:\\users\\manal\\appdata\\local\\programs\\python\\python39\\lib\\site-packages (3.3.5)Note: you may need to restart the kernel to use updated packages.\n",
      "\n",
      "Requirement already satisfied: wheel in c:\\users\\manal\\appdata\\local\\programs\\python\\python39\\lib\\site-packages (from lightgbm) (0.40.0)\n",
      "Requirement already satisfied: numpy in c:\\users\\manal\\appdata\\local\\programs\\python\\python39\\lib\\site-packages (from lightgbm) (1.23.5)\n",
      "Requirement already satisfied: scipy in c:\\users\\manal\\appdata\\local\\programs\\python\\python39\\lib\\site-packages (from lightgbm) (1.10.1)\n",
      "Requirement already satisfied: scikit-learn!=0.22.0 in c:\\users\\manal\\appdata\\local\\programs\\python\\python39\\lib\\site-packages (from lightgbm) (1.2.2)\n",
      "Requirement already satisfied: joblib>=1.1.1 in c:\\users\\manal\\appdata\\local\\programs\\python\\python39\\lib\\site-packages (from scikit-learn!=0.22.0->lightgbm) (1.2.0)\n",
      "Requirement already satisfied: threadpoolctl>=2.0.0 in c:\\users\\manal\\appdata\\local\\programs\\python\\python39\\lib\\site-packages (from scikit-learn!=0.22.0->lightgbm) (3.1.0)\n"
     ]
    }
   ],
   "source": [
    "pip install lightgbm"
   ]
  },
  {
   "cell_type": "code",

   "execution_count": 8,
   "metadata": {},
   "outputs": [],
   "source": [
    "\n",
    "import pandas as pd\n",
    "from category_encoders import OrdinalEncoder\n",
    "from lightgbm import LGBMRegressor\n",
    "from sklearn.model_selection import train_test_split\n",
    "from sklearn.ensemble import ExtraTreesRegressor\n",
    "from shapash import SmartExplainer\n"
   ]
  },
  {
   "cell_type": "code",
   "execution_count": 11,
   "metadata": {},
   "outputs": [
    {
     "data": {
      "text/html": [
       "<div>\n",
       "<style scoped>\n",
       "    .dataframe tbody tr th:only-of-type {\n",
       "        vertical-align: middle;\n",
       "    }\n",
       "\n",
       "    .dataframe tbody tr th {\n",
       "        vertical-align: top;\n",
       "    }\n",
       "\n",
       "    .dataframe thead th {\n",
       "        text-align: right;\n",
       "    }\n",
       "</style>\n",
       "<table border=\"1\" class=\"dataframe\">\n",
       "  <thead>\n",
       "    <tr style=\"text-align: right;\">\n",
       "      <th></th>\n",
       "      <th>Satisfaction</th>\n",
       "      <th>derniere_evaluation</th>\n",
       "      <th>Nombre_de_projets</th>\n",
       "      <th>Nombre_heures_mensuelles_moyenne</th>\n",
       "      <th>Temps_passe_dans_entreprise</th>\n",
       "      <th>Accident_du travail</th>\n",
       "      <th>depart</th>\n",
       "      <th>promotion_5_dernieres_annees</th>\n",
       "      <th>Service</th>\n",
       "      <th>niveau_salaire</th>\n",
       "    </tr>\n",
       "  </thead>\n",
       "  <tbody>\n",
       "    <tr>\n",
       "      <th>0</th>\n",
       "      <td>0.38</td>\n",
       "      <td>0.53</td>\n",
       "      <td>2</td>\n",
       "      <td>157</td>\n",
       "      <td>3</td>\n",
       "      <td>0</td>\n",
       "      <td>1</td>\n",
       "      <td>0</td>\n",
       "      <td>sales</td>\n",
       "      <td>low</td>\n",
       "    </tr>\n",
       "    <tr>\n",
       "      <th>1</th>\n",
       "      <td>0.80</td>\n",
       "      <td>0.86</td>\n",
       "      <td>5</td>\n",
       "      <td>262</td>\n",
       "      <td>6</td>\n",
       "      <td>0</td>\n",
       "      <td>1</td>\n",
       "      <td>0</td>\n",
       "      <td>sales</td>\n",
       "      <td>medium</td>\n",
       "    </tr>\n",
       "    <tr>\n",
       "      <th>2</th>\n",
       "      <td>0.11</td>\n",
       "      <td>0.88</td>\n",
       "      <td>7</td>\n",
       "      <td>272</td>\n",
       "      <td>4</td>\n",
       "      <td>0</td>\n",
       "      <td>1</td>\n",
       "      <td>0</td>\n",
       "      <td>sales</td>\n",
       "      <td>medium</td>\n",
       "    </tr>\n",
       "    <tr>\n",
       "      <th>3</th>\n",
       "      <td>0.72</td>\n",
       "      <td>0.87</td>\n",
       "      <td>5</td>\n",
       "      <td>223</td>\n",
       "      <td>5</td>\n",
       "      <td>0</td>\n",
       "      <td>1</td>\n",
       "      <td>0</td>\n",
       "      <td>sales</td>\n",
       "      <td>low</td>\n",
       "    </tr>\n",
       "    <tr>\n",
       "      <th>4</th>\n",
       "      <td>0.37</td>\n",
       "      <td>0.52</td>\n",
       "      <td>2</td>\n",
       "      <td>159</td>\n",
       "      <td>3</td>\n",
       "      <td>0</td>\n",
       "      <td>1</td>\n",
       "      <td>0</td>\n",
       "      <td>sales</td>\n",
       "      <td>low</td>\n",
       "    </tr>\n",
       "  </tbody>\n",
       "</table>\n",
       "</div>"
      ],
      "text/plain": [
       "   Satisfaction  derniere_evaluation  Nombre_de_projets  \\\n",
       "0          0.38                 0.53                  2   \n",
       "1          0.80                 0.86                  5   \n",
       "2          0.11                 0.88                  7   \n",
       "3          0.72                 0.87                  5   \n",
       "4          0.37                 0.52                  2   \n",
       "\n",
       "   Nombre_heures_mensuelles_moyenne  Temps_passe_dans_entreprise  \\\n",
       "0                               157                            3   \n",
       "1                               262                            6   \n",
       "2                               272                            4   \n",
       "3                               223                            5   \n",
       "4                               159                            3   \n",
       "\n",
       "   Accident_du travail  depart  promotion_5_dernieres_annees Service  \\\n",
       "0                    0       1                             0   sales   \n",
       "1                    0       1                             0   sales   \n",
       "2                    0       1                             0   sales   \n",
       "3                    0       1                             0   sales   \n",
       "4                    0       1                             0   sales   \n",
       "\n",
       "  niveau_salaire  \n",
       "0            low  \n",
       "1         medium  \n",
       "2         medium  \n",
       "3            low  \n",
       "4            low  "
      ]
     },
     "metadata": {},
     "output_type": "display_data"
    }
   ],
   "source": [
    "data = pd.read_csv('/Users/manal/Desktop/Manale/EICNAM/Python_S4_Moreau/depart_employe/depart_employes.csv', sep = ';')\n",
    "display(data.head())"
   ]
  },
  {
   "cell_type": "code",
   "execution_count": 12,
   "metadata": {},
   "outputs": [],
   "source": [
    "y_df=data['depart'].to_frame()\n",
    "X_df=data[data.columns.difference(['depart'])]"
   ]
  },
  {
   "cell_type": "code",
   "execution_count": 13,
   "metadata": {},
   "outputs": [
    {
     "data": {
      "text/html": [
       "<div>\n",
       "<style scoped>\n",
       "    .dataframe tbody tr th:only-of-type {\n",
       "        vertical-align: middle;\n",
       "    }\n",
       "\n",
       "    .dataframe tbody tr th {\n",
       "        vertical-align: top;\n",
       "    }\n",
       "\n",
       "    .dataframe thead th {\n",
       "        text-align: right;\n",
       "    }\n",
       "</style>\n",
       "<table border=\"1\" class=\"dataframe\">\n",
       "  <thead>\n",
       "    <tr style=\"text-align: right;\">\n",
       "      <th></th>\n",
       "      <th>Satisfaction</th>\n",
       "      <th>derniere_evaluation</th>\n",
       "      <th>Nombre_de_projets</th>\n",
       "      <th>Nombre_heures_mensuelles_moyenne</th>\n",
       "      <th>Temps_passe_dans_entreprise</th>\n",
       "      <th>Accident_du travail</th>\n",
       "      <th>depart</th>\n",
       "      <th>promotion_5_dernieres_annees</th>\n",
       "      <th>Service</th>\n",
       "      <th>niveau_salaire</th>\n",
       "    </tr>\n",
       "  </thead>\n",
       "  <tbody>\n",
       "    <tr>\n",
       "      <th>0</th>\n",
       "      <td>0.38</td>\n",
       "      <td>0.53</td>\n",
       "      <td>2</td>\n",
       "      <td>157</td>\n",
       "      <td>3</td>\n",
       "      <td>0</td>\n",
       "      <td>1</td>\n",
       "      <td>0</td>\n",
       "      <td>sales</td>\n",
       "      <td>low</td>\n",
       "    </tr>\n",
       "    <tr>\n",
       "      <th>1</th>\n",
       "      <td>0.80</td>\n",
       "      <td>0.86</td>\n",
       "      <td>5</td>\n",
       "      <td>262</td>\n",
       "      <td>6</td>\n",
       "      <td>0</td>\n",
       "      <td>1</td>\n",
       "      <td>0</td>\n",
       "      <td>sales</td>\n",
       "      <td>medium</td>\n",
       "    </tr>\n",
       "    <tr>\n",
       "      <th>2</th>\n",
       "      <td>0.11</td>\n",
       "      <td>0.88</td>\n",
       "      <td>7</td>\n",
       "      <td>272</td>\n",
       "      <td>4</td>\n",
       "      <td>0</td>\n",
       "      <td>1</td>\n",
       "      <td>0</td>\n",
       "      <td>sales</td>\n",
       "      <td>medium</td>\n",
       "    </tr>\n",
       "    <tr>\n",
       "      <th>3</th>\n",
       "      <td>0.72</td>\n",
       "      <td>0.87</td>\n",
       "      <td>5</td>\n",
       "      <td>223</td>\n",
       "      <td>5</td>\n",
       "      <td>0</td>\n",
       "      <td>1</td>\n",
       "      <td>0</td>\n",
       "      <td>sales</td>\n",
       "      <td>low</td>\n",
       "    </tr>\n",
       "    <tr>\n",
       "      <th>4</th>\n",
       "      <td>0.37</td>\n",
       "      <td>0.52</td>\n",
       "      <td>2</td>\n",
       "      <td>159</td>\n",
       "      <td>3</td>\n",
       "      <td>0</td>\n",
       "      <td>1</td>\n",
       "      <td>0</td>\n",
       "      <td>sales</td>\n",
       "      <td>low</td>\n",
       "    </tr>\n",
       "  </tbody>\n",
       "</table>\n",
       "</div>"
      ],
      "text/plain": [
       "   Satisfaction  derniere_evaluation  Nombre_de_projets  \\\n",
       "0          0.38                 0.53                  2   \n",
       "1          0.80                 0.86                  5   \n",
       "2          0.11                 0.88                  7   \n",
       "3          0.72                 0.87                  5   \n",
       "4          0.37                 0.52                  2   \n",
       "\n",
       "   Nombre_heures_mensuelles_moyenne  Temps_passe_dans_entreprise  \\\n",
       "0                               157                            3   \n",
       "1                               262                            6   \n",
       "2                               272                            4   \n",
       "3                               223                            5   \n",
       "4                               159                            3   \n",
       "\n",
       "   Accident_du travail  depart  promotion_5_dernieres_annees Service  \\\n",
       "0                    0       1                             0   sales   \n",
       "1                    0       1                             0   sales   \n",
       "2                    0       1                             0   sales   \n",
       "3                    0       1                             0   sales   \n",
       "4                    0       1                             0   sales   \n",
       "\n",
       "  niveau_salaire  \n",
       "0            low  \n",
       "1         medium  \n",
       "2         medium  \n",
       "3            low  \n",
       "4            low  "
      ]
     },
     "execution_count": 13,
     "metadata": {},
     "output_type": "execute_result"
    }
   ],
   "source": [
    "data.shape\n",
    "\n",
    "data.head()"
   ]
  },
  {
   "cell_type": "code",
   "execution_count": 14,
   "metadata": {},
   "outputs": [],
   "source": [
    "#from category_encoders import OrdinalEncoder\n",
    "\n",
    "categorical_features = [col for col in X_df.columns if X_df[col].dtype == 'object']\n",
    "\n",
    "encoder = OrdinalEncoder(\n",
    "    cols=categorical_features,\n",
    "    handle_unknown='ignore',\n",
    "    return_df=True).fit(X_df)\n",
    "\n",
    "X_df=encoder.transform(X_df)"
   ]
  },
  {
   "cell_type": "code",
   "execution_count": 15,
   "metadata": {},
   "outputs": [],
   "source": [
    "Xtrain, Xtest, ytrain, ytest = train_test_split(X_df, y_df, train_size=0.75, random_state=1)"
   ]
  },
  {
   "cell_type": "code",
   "execution_count": 16,
   "metadata": {},
   "outputs": [],
   "source": [
    "regressor = LGBMRegressor(n_estimators=100).fit(Xtrain,ytrain)"
   ]
  },
  {
   "cell_type": "code",
   "execution_count": 17,
   "metadata": {},
   "outputs": [],
   "source": [
    "xpl = SmartExplainer(\n",
    "    model=regressor,\n",
    ")"
   ]
  },
  {
   "cell_type": "code",
   "execution_count": 18,
   "metadata": {},
   "outputs": [],
   "source": [
    "xpl.compile(x=Xtest,\n",
    "            y_target=ytest # Optional: allows to display True Values vs Predicted Values\n",
    "           )"
   ]
  },
  {
   "cell_type": "code",
   "execution_count": 19,
   "metadata": {},
   "outputs": [
    {
     "name": "stderr",
     "output_type": "stream",
     "text": [
      "c:\\users\\manal\\appdata\\local\\programs\\python\\python39\\lib\\site-packages\\shapash\\webapp\\smart_app.py:354: FutureWarning:\n",
      "\n",
      "Using short name for 'orient' is deprecated. Only the options: ('dict', list, 'series', 'split', 'records', 'index') will be used in a future version. Use one of the above to silence this warning.\n",
      "\n",
      "INFO:root:Your Shapash application run on http://LAPTOP-L4G8DGH9:8020/\n"
     ]
    },
    {
     "name": "stdout",
     "output_type": "stream",
     "text": [
      "Dash is running on http://0.0.0.0:8020/\n",
      "\n"
     ]
    },
    {
     "name": "stderr",
     "output_type": "stream",
     "text": [
      "INFO:root:Use the method .kill() to down your app.\n",
      "INFO:dash.dash:Dash is running on http://0.0.0.0:8020/\n",
      "\n"
     ]
    },
    {
     "name": "stdout",
     "output_type": "stream",
     "text": [
      " * Serving Flask app 'shapash.webapp.smart_app'\n",
      " * Debug mode: off\n"
     ]
    },
    {
     "name": "stderr",
     "output_type": "stream",
     "text": [
      "INFO:werkzeug:\u001B[31m\u001B[1mWARNING: This is a development server. Do not use it in a production deployment. Use a production WSGI server instead.\u001B[0m\n",
      " * Running on all addresses (0.0.0.0)\n",
      " * Running on http://127.0.0.1:8020\n",
      " * Running on http://192.168.1.28:8020\n",
      "INFO:werkzeug:\u001B[33mPress CTRL+C to quit\u001B[0m\n"
     ]
    }
   ],
   "source": [
    "#affiche le dashboard sur navigateur\n",
    "\n",
    "app = xpl.run_app(title_story='Départ Employés', port=8020)"
   ]
  },
  {
   "cell_type": "code",
   "execution_count": 20,
   "metadata": {},
   "outputs": [],
   "source": [
    "##cloture dashboard\n",
    "\n",
    "app.kill()"
   ]
  },
  {
   "cell_type": "code",
   "execution_count": 21,
   "metadata": {},
   "outputs": [
    {
     "data": {
      "text/html": [
       "<div>\n",
       "<style scoped>\n",
       "    .dataframe tbody tr th:only-of-type {\n",
       "        vertical-align: middle;\n",
       "    }\n",
       "\n",
       "    .dataframe tbody tr th {\n",
       "        vertical-align: top;\n",
       "    }\n",
       "\n",
       "    .dataframe thead th {\n",
       "        text-align: right;\n",
       "    }\n",
       "</style>\n",
       "<table border=\"1\" class=\"dataframe\">\n",
       "  <thead>\n",
       "    <tr style=\"text-align: right;\">\n",
       "      <th></th>\n",
       "      <th>pred</th>\n",
       "      <th>feature_1</th>\n",
       "      <th>value_1</th>\n",
       "      <th>contribution_1</th>\n",
       "      <th>feature_2</th>\n",
       "      <th>value_2</th>\n",
       "      <th>contribution_2</th>\n",
       "      <th>feature_3</th>\n",
       "      <th>value_3</th>\n",
       "      <th>contribution_3</th>\n",
       "    </tr>\n",
       "  </thead>\n",
       "  <tbody>\n",
       "    <tr>\n",
       "      <th>11908</th>\n",
       "      <td>-0.035812</td>\n",
       "      <td>Satisfaction</td>\n",
       "      <td>0.67</td>\n",
       "      <td>-0.080764</td>\n",
       "      <td>derniere_evaluation</td>\n",
       "      <td>0.39</td>\n",
       "      <td>-0.078376</td>\n",
       "      <td>Nombre_heures_mensuelles_moyenne</td>\n",
       "      <td>207.0</td>\n",
       "      <td>-0.058829</td>\n",
       "    </tr>\n",
       "    <tr>\n",
       "      <th>10508</th>\n",
       "      <td>-0.008298</td>\n",
       "      <td>Satisfaction</td>\n",
       "      <td>0.51</td>\n",
       "      <td>-0.149531</td>\n",
       "      <td>Temps_passe_dans_entreprise</td>\n",
       "      <td>3.0</td>\n",
       "      <td>-0.048776</td>\n",
       "      <td>derniere_evaluation</td>\n",
       "      <td>0.98</td>\n",
       "      <td>-0.02255</td>\n",
       "    </tr>\n",
       "    <tr>\n",
       "      <th>9193</th>\n",
       "      <td>0.036048</td>\n",
       "      <td>Satisfaction</td>\n",
       "      <td>0.66</td>\n",
       "      <td>-0.200223</td>\n",
       "      <td>Nombre_de_projets</td>\n",
       "      <td>2.0</td>\n",
       "      <td>0.036972</td>\n",
       "      <td>Temps_passe_dans_entreprise</td>\n",
       "      <td>2.0</td>\n",
       "      <td>-0.031934</td>\n",
       "    </tr>\n",
       "    <tr>\n",
       "      <th>13087</th>\n",
       "      <td>0.001591</td>\n",
       "      <td>Satisfaction</td>\n",
       "      <td>0.53</td>\n",
       "      <td>-0.120554</td>\n",
       "      <td>Temps_passe_dans_entreprise</td>\n",
       "      <td>2.0</td>\n",
       "      <td>-0.051585</td>\n",
       "      <td>Nombre_de_projets</td>\n",
       "      <td>3.0</td>\n",
       "      <td>-0.032463</td>\n",
       "    </tr>\n",
       "    <tr>\n",
       "      <th>506</th>\n",
       "      <td>0.981898</td>\n",
       "      <td>Temps_passe_dans_entreprise</td>\n",
       "      <td>5.0</td>\n",
       "      <td>0.516511</td>\n",
       "      <td>derniere_evaluation</td>\n",
       "      <td>0.98</td>\n",
       "      <td>0.123793</td>\n",
       "      <td>Nombre_heures_mensuelles_moyenne</td>\n",
       "      <td>259.0</td>\n",
       "      <td>0.057198</td>\n",
       "    </tr>\n",
       "  </tbody>\n",
       "</table>\n",
       "</div>"
      ],
      "text/plain": [
       "           pred                    feature_1 value_1 contribution_1  \\\n",
       "11908 -0.035812                 Satisfaction    0.67      -0.080764   \n",
       "10508 -0.008298                 Satisfaction    0.51      -0.149531   \n",
       "9193   0.036048                 Satisfaction    0.66      -0.200223   \n",
       "13087  0.001591                 Satisfaction    0.53      -0.120554   \n",
       "506    0.981898  Temps_passe_dans_entreprise     5.0       0.516511   \n",
       "\n",
       "                         feature_2 value_2 contribution_2  \\\n",
       "11908          derniere_evaluation    0.39      -0.078376   \n",
       "10508  Temps_passe_dans_entreprise     3.0      -0.048776   \n",
       "9193             Nombre_de_projets     2.0       0.036972   \n",
       "13087  Temps_passe_dans_entreprise     2.0      -0.051585   \n",
       "506            derniere_evaluation    0.98       0.123793   \n",
       "\n",
       "                              feature_3 value_3 contribution_3  \n",
       "11908  Nombre_heures_mensuelles_moyenne   207.0      -0.058829  \n",
       "10508               derniere_evaluation    0.98       -0.02255  \n",
       "9193        Temps_passe_dans_entreprise     2.0      -0.031934  \n",
       "13087                 Nombre_de_projets     3.0      -0.032463  \n",
       "506    Nombre_heures_mensuelles_moyenne   259.0       0.057198  "
      ]
     },
     "execution_count": 21,
     "metadata": {},
     "output_type": "execute_result"
    }
   ],
   "source": [
    "summary_df= xpl.to_pandas(\n",
    "    max_contrib=3, # Number Max of features to show in summary\n",
    "    #threshold=5000,\n",
    ")\n",
    "\n",
    "summary_df.head()"
   ]
  },
  {
   "cell_type": "code",
   "execution_count": null,
   "metadata": {},
   "outputs": [],
   "source": [
    "#compression format binaire doc pickle\n",
    "#xpl.save('./xpl.pkl')"
   ]
  }
 ],
 "metadata": {
  "kernelspec": {
   "display_name": "Python 3 (ipykernel)",

   "language": "python",
   "name": "python3"
  },
  "language_info": {
   "codemirror_mode": {
    "name": "ipython",
    "version": 3
   },
   "file_extension": ".py",
   "mimetype": "text/x-python",
   "name": "python",
   "nbconvert_exporter": "python",
   "pygments_lexer": "ipython3",
   "version": "3.9.5"

  }
 },
 "nbformat": 4,
 "nbformat_minor": 2

}